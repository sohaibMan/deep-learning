{
 "cells": [
  {
   "cell_type": "code",
   "outputs": [],
   "source": [
    "from torch.utils.data import Dataset, random_split\n",
    "from pandas import read_csv\n",
    "import seaborn as sns\n",
    "import matplotlib.pyplot as plt\n",
    "\n",
    "# dataset definition preparation \n",
    "class CSVDataset(Dataset):\n",
    "    # load the dataset\n",
    "    def __init__(self, path):\n",
    "        # load the csv file as a dataframe\n",
    "        self.df = read_csv(path)\n",
    "\n",
    "        self.df.head()\n",
    "        # store the inputs and outputs\n",
    "        self.X = self.df.values[:, :-1]\n",
    "        self.y = self.df.values[:, -1]\n",
    "        # ensure target has the right shape\n",
    "        self.y = self.y.reshape((len(self.y), 1))\n",
    "\n",
    "    # number of rows in the dataset\n",
    "    def __len__(self):\n",
    "        return len(self.X)\n",
    "\n",
    "    # get a row at an index\n",
    "    def __getitem__(self, idx):\n",
    "        return [self.X[idx], self.y[idx]]\n",
    "\n",
    "    # get indexes for train and test rows\n",
    "    def get_splits(self, n_test=0.33):\n",
    "        # determine sizes\n",
    "        test_size = round(n_test * len(self.X))\n",
    "        train_size = len(self.X) - test_size\n",
    "        # calculate the split\n",
    "        return random_split(self, [train_size, test_size])\n",
    "    \n",
    "    def print_info(self):\n",
    "        print(self.df.info())\n",
    "        print(self.df.describe())\n",
    "        print(self.df.head())\n",
    "        print(self.df.isnull().sum())\n",
    "        \n",
    "    def visualize(self):\n",
    "        plt.figure(figsize=(10, 6))\n",
    "        sns.countplot(y='open', data=self.df)\n",
    "        plt.title('Spans from 2010 to the end 2016')\n",
    "        plt.show()\n",
    "        \n",
    "    def check(self):\n",
    "        # Step 3: Check for missing values\n",
    "        print(self.df.isnull().sum())"
   ],
   "metadata": {
    "collapsed": false,
    "is_executing": true
   },
   "id": "21143567cd556d5b",
   "execution_count": null
  },
  {
   "cell_type": "code",
   "outputs": [],
   "source": [
    "# Step 1: Load the dataset\n",
    "data_set = CSVDataset('data/prices.csv')"
   ],
   "metadata": {
    "collapsed": false,
    "is_executing": true
   },
   "id": "2f2810fefabbe46d",
   "execution_count": null
  },
  {
   "cell_type": "code",
   "outputs": [],
   "source": [
    "# Step 2: Summarize the dataset\n",
    "data_set.print_info()"
   ],
   "metadata": {
    "collapsed": false,
    "is_executing": true
   },
   "id": "c640e4c76b97e9af",
   "execution_count": null
  },
  {
   "cell_type": "code",
   "outputs": [],
   "source": [
    "# Step 3: Visualize the dataset\n",
    "data_set.visualize()"
   ],
   "metadata": {
    "collapsed": false,
    "is_executing": true
   },
   "id": "663427805d37b492",
   "execution_count": null
  },
  {
   "cell_type": "code",
   "outputs": [],
   "source": [
    "# Step 4: Check for missing values\n",
    "data_set.check()"
   ],
   "metadata": {
    "collapsed": false,
    "is_executing": true
   },
   "id": "9e6d85c84433b8ab",
   "execution_count": null
  },
  {
   "cell_type": "code",
   "outputs": [],
   "source": [
    "import torch.nn as nn\n",
    "import torch.nn.functional as func\n",
    "\n",
    "\n",
    "# Step 5: Define the DNN architecture\n",
    "class Net(nn.Module):\n",
    "    def __init__(self):\n",
    "        super(Net, self).__init__()\n",
    "        # Define the layers of the network here\n",
    "        self.fc1 = nn.Linear(10, 64)  # assuming input features are 10\n",
    "        self.fc2 = nn.Linear(64, 64)\n",
    "        self.fc3 = nn.Linear(64, 1)  # output is 1 for a regression task\n",
    "\n",
    "    def forward(self, x):\n",
    "        # Define the forward pass\n",
    "        x = func.relu(self.fc1(x))\n",
    "        x = func.relu(self.fc2(x))\n",
    "        x = self.fc3(x)  # no activation function for the la\n",
    "        return x"
   ],
   "metadata": {
    "collapsed": false,
    "is_executing": true
   },
   "id": "13f2aa4136e7e042",
   "execution_count": null
  },
  {
   "cell_type": "code",
   "outputs": [],
   "source": [
    "from torch.utils.data import DataLoader\n",
    "from torch.optim import SGD\n",
    "from torch.nn import MSELoss\n",
    "from tqdm import tqdm\n",
    "\n",
    "# Step 6: Create an instance of the network\n",
    "model = Net()\n",
    "\n",
    "# Step 7: Train the model\n",
    "def train_model(train_data, training_model):\n",
    "    size = len(train_data.dataset)\n",
    "    # define the optimization\n",
    "    criterion = MSELoss()\n",
    "    optimizer = SGD(model.parameters(), lr=0.01, momentum=0.9)\n",
    "    # enumerate epochs\n",
    "    # enumerate epochs\n",
    "    for epoch in tqdm(range(100), desc='Training Epochs'):\n",
    "        print(f\"Epoch {epoch + 1}\\n-------------------------------\")\n",
    "        # enumerate mini batches\n",
    "        for batch, (inputs, targets) in enumerate(train_data):\n",
    "            # clear the gradients\n",
    "            optimizer.zero_grad()\n",
    "            # compute the model output\n",
    "            yhat = training_model(inputs)\n",
    "            # calculate loss\n",
    "            loss = criterion(yhat, targets)\n",
    "            # credit assignment\n",
    "            loss.backward()\n",
    "            # update model weights\n",
    "            optimizer.step()\n",
    "\n",
    "            #if batch % 100 == 0:\n",
    "            loss, current = loss.item(), batch * len(inputs)\n",
    "            print(f\"loss: {loss:>7f}  [{current:>5d}/{size:>5d}]\")\n",
    "\n"
   ],
   "metadata": {
    "collapsed": false,
    "is_executing": true
   },
   "id": "b8be6151d6f344fa",
   "execution_count": null
  },
  {
   "cell_type": "code",
   "outputs": [],
   "source": [
    "# Step 8: Prepare the data\n",
    "def prepare_data(dataset):\n",
    "    # calculate split\n",
    "    train, test = dataset.get_splits()\n",
    "    # prepare data loaders\n",
    "    return DataLoader(train, batch_size=1024, shuffle=True), DataLoader(test, batch_size=1024, shuffle=False)"
   ],
   "metadata": {
    "collapsed": false,
    "is_executing": true
   },
   "id": "c1ba0d06e53310dc",
   "execution_count": null
  },
  {
   "cell_type": "code",
   "outputs": [],
   "source": [
    "# Step 9: Train the model\n",
    "train_dl, test_dl = prepare_data(data_set)\n",
    "print(len(train_dl.dataset), len(test_dl.dataset))\n",
    "\n",
    "train_model(train_dl, model)\n"
   ],
   "metadata": {
    "collapsed": false,
    "is_executing": true
   },
   "id": "1206287323dd2c1c",
   "execution_count": null
  }
 ],
 "metadata": {
  "kernelspec": {
   "display_name": "Python 3",
   "language": "python",
   "name": "python3"
  },
  "language_info": {
   "codemirror_mode": {
    "name": "ipython",
    "version": 2
   },
   "file_extension": ".py",
   "mimetype": "text/x-python",
   "name": "python",
   "nbconvert_exporter": "python",
   "pygments_lexer": "ipython2",
   "version": "2.7.6"
  }
 },
 "nbformat": 4,
 "nbformat_minor": 5
}
